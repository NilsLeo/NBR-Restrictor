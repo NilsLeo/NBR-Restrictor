{
  "cells": [
    {
      "cell_type": "code",
      "metadata": {
        "jukit_cell_id": "NONE"
      },
      "source": [
        "import os\n",
        "from utils import merge_dataframes\n",
        "\n",
        "dunnhumby_merged = merge_dataframes(\n",
        "    'input/dunnhumby_history.csv', \n",
        "    'input/dunnhumby_future.csv'\n",
        ")\n",
        "\n",
        "instacart_merged = merge_dataframes(\n",
        "    'input/instacart_history.csv',\n",
        "    'input/instacart_future.csv'\n",
        ")\n",
        "\n",
        "tafeng_merged = merge_dataframes(\n",
        "    'input/tafeng_history.csv',\n",
        "    'input/tafeng_future.csv'\n",
        ")"
      ],
      "outputs": [],
      "execution_count": null
    }
  ],
  "metadata": {
    "anaconda-cloud": {},
    "kernelspec": {
      "display_name": "python",
      "language": "python",
      "name": "python3"
    }
  },
  "nbformat": 4,
  "nbformat_minor": 4
}